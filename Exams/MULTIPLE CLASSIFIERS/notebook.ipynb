{
 "cells": [
  {
   "cell_type": "markdown",
   "metadata": {},
   "source": [
    "Edoardo Merli edoardo.merli@studio.unibo.it"
   ]
  },
  {
   "attachments": {},
   "cell_type": "markdown",
   "metadata": {},
   "source": [
    "1. The data are split in two files, load the files and merge them\n",
    "according to the first column, which is the index; both the files\n",
    "contain a \"class\" column, keep both the columns in the merged\n",
    "file calling them \"class_x\" and \"class_y\" (you can use the merge\n",
    "function of pandas dataframes)"
   ]
  },
  {
   "cell_type": "code",
   "execution_count": 97,
   "metadata": {},
   "outputs": [],
   "source": [
    "import pandas as pd\n",
    "import numpy as np\n",
    "from sklearn.model_selection import GridSearchCV, train_test_split\n",
    "from sklearn.tree import DecisionTreeClassifier\n",
    "from sklearn.naive_bayes import GaussianNB\n",
    "from sklearn.neighbors import KNeighborsClassifier\n",
    "from sklearn.metrics import confusion_matrix, ConfusionMatrixDisplay, accuracy_score\n",
    "import matplotlib.pyplot as plt\n",
    "\n",
    "random_state = 42"
   ]
  },
  {
   "cell_type": "code",
   "execution_count": 11,
   "metadata": {},
   "outputs": [],
   "source": [
    "file1 = 'exam_1.csv'\n",
    "file2 = 'exam_2.csv'\n",
    "\n",
    "df1 = pd.read_csv(file1)\n",
    "df2 = pd.read_csv(file2)"
   ]
  },
  {
   "cell_type": "code",
   "execution_count": 12,
   "metadata": {},
   "outputs": [
    {
     "data": {
      "text/html": [
       "<div>\n",
       "<style scoped>\n",
       "    .dataframe tbody tr th:only-of-type {\n",
       "        vertical-align: middle;\n",
       "    }\n",
       "\n",
       "    .dataframe tbody tr th {\n",
       "        vertical-align: top;\n",
       "    }\n",
       "\n",
       "    .dataframe thead th {\n",
       "        text-align: right;\n",
       "    }\n",
       "</style>\n",
       "<table border=\"1\" class=\"dataframe\">\n",
       "  <thead>\n",
       "    <tr style=\"text-align: right;\">\n",
       "      <th></th>\n",
       "      <th>Unnamed: 0</th>\n",
       "      <th>A</th>\n",
       "      <th>C</th>\n",
       "      <th>E</th>\n",
       "      <th>class</th>\n",
       "    </tr>\n",
       "  </thead>\n",
       "  <tbody>\n",
       "    <tr>\n",
       "      <th>0</th>\n",
       "      <td>0</td>\n",
       "      <td>-0.386248</td>\n",
       "      <td>1.536628</td>\n",
       "      <td>1.232589</td>\n",
       "      <td>1</td>\n",
       "    </tr>\n",
       "    <tr>\n",
       "      <th>1</th>\n",
       "      <td>1</td>\n",
       "      <td>-2.686649</td>\n",
       "      <td>4.640702</td>\n",
       "      <td>0.823433</td>\n",
       "      <td>1</td>\n",
       "    </tr>\n",
       "    <tr>\n",
       "      <th>2</th>\n",
       "      <td>2</td>\n",
       "      <td>0.474124</td>\n",
       "      <td>1.576616</td>\n",
       "      <td>-1.256234</td>\n",
       "      <td>0</td>\n",
       "    </tr>\n",
       "    <tr>\n",
       "      <th>3</th>\n",
       "      <td>3</td>\n",
       "      <td>-1.343790</td>\n",
       "      <td>-0.514008</td>\n",
       "      <td>1.520392</td>\n",
       "      <td>2</td>\n",
       "    </tr>\n",
       "    <tr>\n",
       "      <th>4</th>\n",
       "      <td>4</td>\n",
       "      <td>-2.187600</td>\n",
       "      <td>0.289041</td>\n",
       "      <td>1.318321</td>\n",
       "      <td>2</td>\n",
       "    </tr>\n",
       "  </tbody>\n",
       "</table>\n",
       "</div>"
      ],
      "text/plain": [
       "   Unnamed: 0         A         C         E  class\n",
       "0           0 -0.386248  1.536628  1.232589      1\n",
       "1           1 -2.686649  4.640702  0.823433      1\n",
       "2           2  0.474124  1.576616 -1.256234      0\n",
       "3           3 -1.343790 -0.514008  1.520392      2\n",
       "4           4 -2.187600  0.289041  1.318321      2"
      ]
     },
     "execution_count": 12,
     "metadata": {},
     "output_type": "execute_result"
    }
   ],
   "source": [
    "df1.head()"
   ]
  },
  {
   "cell_type": "code",
   "execution_count": 13,
   "metadata": {},
   "outputs": [
    {
     "data": {
      "text/html": [
       "<div>\n",
       "<style scoped>\n",
       "    .dataframe tbody tr th:only-of-type {\n",
       "        vertical-align: middle;\n",
       "    }\n",
       "\n",
       "    .dataframe tbody tr th {\n",
       "        vertical-align: top;\n",
       "    }\n",
       "\n",
       "    .dataframe thead th {\n",
       "        text-align: right;\n",
       "    }\n",
       "</style>\n",
       "<table border=\"1\" class=\"dataframe\">\n",
       "  <thead>\n",
       "    <tr style=\"text-align: right;\">\n",
       "      <th></th>\n",
       "      <th>Unnamed: 0</th>\n",
       "      <th>B</th>\n",
       "      <th>D</th>\n",
       "      <th>F</th>\n",
       "      <th>class</th>\n",
       "    </tr>\n",
       "  </thead>\n",
       "  <tbody>\n",
       "    <tr>\n",
       "      <th>0</th>\n",
       "      <td>0</td>\n",
       "      <td>-1.432057</td>\n",
       "      <td>1.039420</td>\n",
       "      <td>0.280469</td>\n",
       "      <td>1</td>\n",
       "    </tr>\n",
       "    <tr>\n",
       "      <th>1</th>\n",
       "      <td>1</td>\n",
       "      <td>-4.036329</td>\n",
       "      <td>0.526320</td>\n",
       "      <td>-0.419013</td>\n",
       "      <td>1</td>\n",
       "    </tr>\n",
       "    <tr>\n",
       "      <th>2</th>\n",
       "      <td>2</td>\n",
       "      <td>0.179770</td>\n",
       "      <td>0.157974</td>\n",
       "      <td>-0.162869</td>\n",
       "      <td>0</td>\n",
       "    </tr>\n",
       "    <tr>\n",
       "      <th>3</th>\n",
       "      <td>3</td>\n",
       "      <td>-1.299109</td>\n",
       "      <td>-0.152250</td>\n",
       "      <td>0.045123</td>\n",
       "      <td>2</td>\n",
       "    </tr>\n",
       "    <tr>\n",
       "      <th>4</th>\n",
       "      <td>4</td>\n",
       "      <td>-2.089699</td>\n",
       "      <td>-0.494995</td>\n",
       "      <td>-0.661858</td>\n",
       "      <td>2</td>\n",
       "    </tr>\n",
       "  </tbody>\n",
       "</table>\n",
       "</div>"
      ],
      "text/plain": [
       "   Unnamed: 0         B         D         F  class\n",
       "0           0 -1.432057  1.039420  0.280469      1\n",
       "1           1 -4.036329  0.526320 -0.419013      1\n",
       "2           2  0.179770  0.157974 -0.162869      0\n",
       "3           3 -1.299109 -0.152250  0.045123      2\n",
       "4           4 -2.089699 -0.494995 -0.661858      2"
      ]
     },
     "execution_count": 13,
     "metadata": {},
     "output_type": "execute_result"
    }
   ],
   "source": [
    "df2.head()"
   ]
  },
  {
   "cell_type": "code",
   "execution_count": 25,
   "metadata": {},
   "outputs": [
    {
     "data": {
      "text/html": [
       "<div>\n",
       "<style scoped>\n",
       "    .dataframe tbody tr th:only-of-type {\n",
       "        vertical-align: middle;\n",
       "    }\n",
       "\n",
       "    .dataframe tbody tr th {\n",
       "        vertical-align: top;\n",
       "    }\n",
       "\n",
       "    .dataframe thead th {\n",
       "        text-align: right;\n",
       "    }\n",
       "</style>\n",
       "<table border=\"1\" class=\"dataframe\">\n",
       "  <thead>\n",
       "    <tr style=\"text-align: right;\">\n",
       "      <th></th>\n",
       "      <th>Unnamed: 0</th>\n",
       "      <th>A</th>\n",
       "      <th>C</th>\n",
       "      <th>E</th>\n",
       "      <th>class_x</th>\n",
       "      <th>B</th>\n",
       "      <th>D</th>\n",
       "      <th>F</th>\n",
       "      <th>class_y</th>\n",
       "    </tr>\n",
       "  </thead>\n",
       "  <tbody>\n",
       "    <tr>\n",
       "      <th>0</th>\n",
       "      <td>0</td>\n",
       "      <td>-0.386248</td>\n",
       "      <td>1.536628</td>\n",
       "      <td>1.232589</td>\n",
       "      <td>1</td>\n",
       "      <td>-1.432057</td>\n",
       "      <td>1.039420</td>\n",
       "      <td>0.280469</td>\n",
       "      <td>1</td>\n",
       "    </tr>\n",
       "    <tr>\n",
       "      <th>1</th>\n",
       "      <td>1</td>\n",
       "      <td>-2.686649</td>\n",
       "      <td>4.640702</td>\n",
       "      <td>0.823433</td>\n",
       "      <td>1</td>\n",
       "      <td>-4.036329</td>\n",
       "      <td>0.526320</td>\n",
       "      <td>-0.419013</td>\n",
       "      <td>1</td>\n",
       "    </tr>\n",
       "    <tr>\n",
       "      <th>2</th>\n",
       "      <td>2</td>\n",
       "      <td>0.474124</td>\n",
       "      <td>1.576616</td>\n",
       "      <td>-1.256234</td>\n",
       "      <td>0</td>\n",
       "      <td>0.179770</td>\n",
       "      <td>0.157974</td>\n",
       "      <td>-0.162869</td>\n",
       "      <td>0</td>\n",
       "    </tr>\n",
       "    <tr>\n",
       "      <th>3</th>\n",
       "      <td>3</td>\n",
       "      <td>-1.343790</td>\n",
       "      <td>-0.514008</td>\n",
       "      <td>1.520392</td>\n",
       "      <td>2</td>\n",
       "      <td>-1.299109</td>\n",
       "      <td>-0.152250</td>\n",
       "      <td>0.045123</td>\n",
       "      <td>2</td>\n",
       "    </tr>\n",
       "    <tr>\n",
       "      <th>4</th>\n",
       "      <td>4</td>\n",
       "      <td>-2.187600</td>\n",
       "      <td>0.289041</td>\n",
       "      <td>1.318321</td>\n",
       "      <td>2</td>\n",
       "      <td>-2.089699</td>\n",
       "      <td>-0.494995</td>\n",
       "      <td>-0.661858</td>\n",
       "      <td>2</td>\n",
       "    </tr>\n",
       "  </tbody>\n",
       "</table>\n",
       "</div>"
      ],
      "text/plain": [
       "   Unnamed: 0         A         C         E  class_x         B         D  \\\n",
       "0           0 -0.386248  1.536628  1.232589        1 -1.432057  1.039420   \n",
       "1           1 -2.686649  4.640702  0.823433        1 -4.036329  0.526320   \n",
       "2           2  0.474124  1.576616 -1.256234        0  0.179770  0.157974   \n",
       "3           3 -1.343790 -0.514008  1.520392        2 -1.299109 -0.152250   \n",
       "4           4 -2.187600  0.289041  1.318321        2 -2.089699 -0.494995   \n",
       "\n",
       "          F  class_y  \n",
       "0  0.280469        1  \n",
       "1 -0.419013        1  \n",
       "2 -0.162869        0  \n",
       "3  0.045123        2  \n",
       "4 -0.661858        2  "
      ]
     },
     "execution_count": 25,
     "metadata": {},
     "output_type": "execute_result"
    }
   ],
   "source": [
    "df1.rename(columns={'class':'class_x'}, inplace=True)\n",
    "df2.rename(columns={'class':'class_y'}, inplace=True)\n",
    "df = pd.merge(df1, df2)\n",
    "df.head()"
   ]
  },
  {
   "attachments": {},
   "cell_type": "markdown",
   "metadata": {},
   "source": [
    "2. Delete all the rows where class_x is different from class_y, then\n",
    "drop class_y and rename class_x as class"
   ]
  },
  {
   "cell_type": "code",
   "execution_count": 44,
   "metadata": {},
   "outputs": [],
   "source": [
    "df = df[df['class_x'] == df['class_y']]"
   ]
  },
  {
   "cell_type": "code",
   "execution_count": 47,
   "metadata": {},
   "outputs": [
    {
     "data": {
      "text/html": [
       "<div>\n",
       "<style scoped>\n",
       "    .dataframe tbody tr th:only-of-type {\n",
       "        vertical-align: middle;\n",
       "    }\n",
       "\n",
       "    .dataframe tbody tr th {\n",
       "        vertical-align: top;\n",
       "    }\n",
       "\n",
       "    .dataframe thead th {\n",
       "        text-align: right;\n",
       "    }\n",
       "</style>\n",
       "<table border=\"1\" class=\"dataframe\">\n",
       "  <thead>\n",
       "    <tr style=\"text-align: right;\">\n",
       "      <th></th>\n",
       "      <th>Unnamed: 0</th>\n",
       "      <th>A</th>\n",
       "      <th>C</th>\n",
       "      <th>E</th>\n",
       "      <th>class</th>\n",
       "      <th>B</th>\n",
       "      <th>D</th>\n",
       "      <th>F</th>\n",
       "    </tr>\n",
       "  </thead>\n",
       "  <tbody>\n",
       "    <tr>\n",
       "      <th>0</th>\n",
       "      <td>0</td>\n",
       "      <td>-0.386248</td>\n",
       "      <td>1.536628</td>\n",
       "      <td>1.232589</td>\n",
       "      <td>1</td>\n",
       "      <td>-1.432057</td>\n",
       "      <td>1.039420</td>\n",
       "      <td>0.280469</td>\n",
       "    </tr>\n",
       "    <tr>\n",
       "      <th>1</th>\n",
       "      <td>1</td>\n",
       "      <td>-2.686649</td>\n",
       "      <td>4.640702</td>\n",
       "      <td>0.823433</td>\n",
       "      <td>1</td>\n",
       "      <td>-4.036329</td>\n",
       "      <td>0.526320</td>\n",
       "      <td>-0.419013</td>\n",
       "    </tr>\n",
       "    <tr>\n",
       "      <th>2</th>\n",
       "      <td>2</td>\n",
       "      <td>0.474124</td>\n",
       "      <td>1.576616</td>\n",
       "      <td>-1.256234</td>\n",
       "      <td>0</td>\n",
       "      <td>0.179770</td>\n",
       "      <td>0.157974</td>\n",
       "      <td>-0.162869</td>\n",
       "    </tr>\n",
       "    <tr>\n",
       "      <th>3</th>\n",
       "      <td>3</td>\n",
       "      <td>-1.343790</td>\n",
       "      <td>-0.514008</td>\n",
       "      <td>1.520392</td>\n",
       "      <td>2</td>\n",
       "      <td>-1.299109</td>\n",
       "      <td>-0.152250</td>\n",
       "      <td>0.045123</td>\n",
       "    </tr>\n",
       "    <tr>\n",
       "      <th>4</th>\n",
       "      <td>4</td>\n",
       "      <td>-2.187600</td>\n",
       "      <td>0.289041</td>\n",
       "      <td>1.318321</td>\n",
       "      <td>2</td>\n",
       "      <td>-2.089699</td>\n",
       "      <td>-0.494995</td>\n",
       "      <td>-0.661858</td>\n",
       "    </tr>\n",
       "  </tbody>\n",
       "</table>\n",
       "</div>"
      ],
      "text/plain": [
       "   Unnamed: 0         A         C         E  class         B         D  \\\n",
       "0           0 -0.386248  1.536628  1.232589      1 -1.432057  1.039420   \n",
       "1           1 -2.686649  4.640702  0.823433      1 -4.036329  0.526320   \n",
       "2           2  0.474124  1.576616 -1.256234      0  0.179770  0.157974   \n",
       "3           3 -1.343790 -0.514008  1.520392      2 -1.299109 -0.152250   \n",
       "4           4 -2.187600  0.289041  1.318321      2 -2.089699 -0.494995   \n",
       "\n",
       "          F  \n",
       "0  0.280469  \n",
       "1 -0.419013  \n",
       "2 -0.162869  \n",
       "3  0.045123  \n",
       "4 -0.661858  "
      ]
     },
     "execution_count": 47,
     "metadata": {},
     "output_type": "execute_result"
    }
   ],
   "source": [
    "df = df.drop('class_y', axis=1)\n",
    "df.rename(columns={'class_x': 'class'}, inplace=True)\n",
    "df.head()"
   ]
  },
  {
   "attachments": {},
   "cell_type": "markdown",
   "metadata": {},
   "source": [
    "3. Reorder the columns in alphabetical order, but placing the class\n",
    "column as the last one; the cleaned dataframe must be named\n",
    "df; show its size and head"
   ]
  },
  {
   "cell_type": "code",
   "execution_count": 59,
   "metadata": {},
   "outputs": [
    {
     "name": "stdout",
     "output_type": "stream",
     "text": [
      "The shape of the dataframe is (1984, 8)\n",
      "The head of the dataframe is:\n"
     ]
    },
    {
     "data": {
      "text/html": [
       "<div>\n",
       "<style scoped>\n",
       "    .dataframe tbody tr th:only-of-type {\n",
       "        vertical-align: middle;\n",
       "    }\n",
       "\n",
       "    .dataframe tbody tr th {\n",
       "        vertical-align: top;\n",
       "    }\n",
       "\n",
       "    .dataframe thead th {\n",
       "        text-align: right;\n",
       "    }\n",
       "</style>\n",
       "<table border=\"1\" class=\"dataframe\">\n",
       "  <thead>\n",
       "    <tr style=\"text-align: right;\">\n",
       "      <th></th>\n",
       "      <th>Unnamed: 0</th>\n",
       "      <th>A</th>\n",
       "      <th>B</th>\n",
       "      <th>C</th>\n",
       "      <th>D</th>\n",
       "      <th>E</th>\n",
       "      <th>F</th>\n",
       "      <th>class</th>\n",
       "    </tr>\n",
       "  </thead>\n",
       "  <tbody>\n",
       "    <tr>\n",
       "      <th>0</th>\n",
       "      <td>0</td>\n",
       "      <td>-0.386248</td>\n",
       "      <td>-1.432057</td>\n",
       "      <td>1.536628</td>\n",
       "      <td>1.039420</td>\n",
       "      <td>1.232589</td>\n",
       "      <td>0.280469</td>\n",
       "      <td>1</td>\n",
       "    </tr>\n",
       "    <tr>\n",
       "      <th>1</th>\n",
       "      <td>1</td>\n",
       "      <td>-2.686649</td>\n",
       "      <td>-4.036329</td>\n",
       "      <td>4.640702</td>\n",
       "      <td>0.526320</td>\n",
       "      <td>0.823433</td>\n",
       "      <td>-0.419013</td>\n",
       "      <td>1</td>\n",
       "    </tr>\n",
       "    <tr>\n",
       "      <th>2</th>\n",
       "      <td>2</td>\n",
       "      <td>0.474124</td>\n",
       "      <td>0.179770</td>\n",
       "      <td>1.576616</td>\n",
       "      <td>0.157974</td>\n",
       "      <td>-1.256234</td>\n",
       "      <td>-0.162869</td>\n",
       "      <td>0</td>\n",
       "    </tr>\n",
       "    <tr>\n",
       "      <th>3</th>\n",
       "      <td>3</td>\n",
       "      <td>-1.343790</td>\n",
       "      <td>-1.299109</td>\n",
       "      <td>-0.514008</td>\n",
       "      <td>-0.152250</td>\n",
       "      <td>1.520392</td>\n",
       "      <td>0.045123</td>\n",
       "      <td>2</td>\n",
       "    </tr>\n",
       "    <tr>\n",
       "      <th>4</th>\n",
       "      <td>4</td>\n",
       "      <td>-2.187600</td>\n",
       "      <td>-2.089699</td>\n",
       "      <td>0.289041</td>\n",
       "      <td>-0.494995</td>\n",
       "      <td>1.318321</td>\n",
       "      <td>-0.661858</td>\n",
       "      <td>2</td>\n",
       "    </tr>\n",
       "  </tbody>\n",
       "</table>\n",
       "</div>"
      ],
      "text/plain": [
       "   Unnamed: 0         A         B         C         D         E         F  \\\n",
       "0           0 -0.386248 -1.432057  1.536628  1.039420  1.232589  0.280469   \n",
       "1           1 -2.686649 -4.036329  4.640702  0.526320  0.823433 -0.419013   \n",
       "2           2  0.474124  0.179770  1.576616  0.157974 -1.256234 -0.162869   \n",
       "3           3 -1.343790 -1.299109 -0.514008 -0.152250  1.520392  0.045123   \n",
       "4           4 -2.187600 -2.089699  0.289041 -0.494995  1.318321 -0.661858   \n",
       "\n",
       "   class  \n",
       "0      1  \n",
       "1      1  \n",
       "2      0  \n",
       "3      2  \n",
       "4      2  "
      ]
     },
     "execution_count": 59,
     "metadata": {},
     "output_type": "execute_result"
    }
   ],
   "source": [
    "df = df[['Unnamed: 0', 'A', 'B', 'C', 'D', 'E', 'F', 'class']]\n",
    "print(f\"The shape of the dataframe is {df.shape}\")\n",
    "print(\"The head of the dataframe is:\")\n",
    "df.head()"
   ]
  },
  {
   "attachments": {},
   "cell_type": "markdown",
   "metadata": {},
   "source": [
    "4. Find the best classification scheme using three classification\n",
    "methods"
   ]
  },
  {
   "cell_type": "code",
   "execution_count": 64,
   "metadata": {},
   "outputs": [],
   "source": [
    "X = df.drop(['Unnamed: 0', 'class'], axis=1)\n",
    "y = df['class']\n",
    "Xtrain, Xtest, ytrain, ytest = train_test_split(X, y, test_size=0.3, random_state=random_state)"
   ]
  },
  {
   "cell_type": "code",
   "execution_count": 65,
   "metadata": {},
   "outputs": [],
   "source": [
    "model_lbls = [\n",
    "       'dt', \n",
    "       'nb', \n",
    "       'knn',\n",
    "       ]\n",
    "\n",
    "# Parameters by cross-validation\n",
    "params_dt = [{'max_depth': list(range(1,20))}]\n",
    "params_nb = [{'var_smoothing': [10, 1, 1e-1, 1e-2, 1e-3, 1e-4, 1e-5, 1e-6, 1e-07, 1e-8, 1e-9, 1e-10]}]\n",
    "params_knn =[{'n_neighbors': [1, 2, 3, 4, 5, 6, 7, 8, 9, 10]}]\n",
    "\n",
    "models = {\n",
    "    'dt': {'name': 'Decision Tree       ',\n",
    "           'estimator': DecisionTreeClassifier(), \n",
    "           'param': params_dt,\n",
    "          },\n",
    "    'nb': {'name': 'Gaussian Naive Bayes',\n",
    "           'estimator': GaussianNB(),\n",
    "           'param': params_nb\n",
    "          },\n",
    "    'knn':{'name': 'K Nearest Neighbor ',\n",
    "           'estimator': KNeighborsClassifier(),\n",
    "           'param': params_knn\n",
    "       }\n",
    "}\n",
    "\n",
    "score = 'accuracy'"
   ]
  },
  {
   "cell_type": "code",
   "execution_count": 79,
   "metadata": {},
   "outputs": [],
   "source": [
    "def print_results(model):\n",
    "    print(\"Best parameters set found on train set:\")\n",
    "    # if best is linear there is no gamma parameter\n",
    "    print(model.best_params_)\n",
    "    print()"
   ]
  },
  {
   "attachments": {},
   "cell_type": "markdown",
   "metadata": {},
   "source": [
    "5. For each classification method find the best parameter setting\n",
    "with cross validation on the training set"
   ]
  },
  {
   "cell_type": "code",
   "execution_count": 82,
   "metadata": {},
   "outputs": [
    {
     "name": "stdout",
     "output_type": "stream",
     "text": [
      "--------------------------------------------\n",
      "Trying model Decision Tree       \n",
      "Best parameters set found on train set:\n",
      "{'max_depth': 6}\n",
      "\n",
      "--------------------------------------------\n",
      "Trying model Gaussian Naive Bayes\n",
      "Best parameters set found on train set:\n",
      "{'var_smoothing': 0.1}\n",
      "\n",
      "--------------------------------------------\n",
      "Trying model K Nearest Neighbor \n",
      "Best parameters set found on train set:\n",
      "{'n_neighbors': 9}\n",
      "\n"
     ]
    }
   ],
   "source": [
    "final_report = {score: []}\n",
    "confusion_matrices = {}\n",
    "for model_type in model_lbls:\n",
    "    model_type_dict = models[model_type]\n",
    "    print(\"--------------------------------------------\")\n",
    "    print(f\"Trying model {model_type_dict['name']}\")\n",
    "    classifier = GridSearchCV(estimator=model_type_dict['estimator'], param_grid=model_type_dict['param'], scoring=score, error_score='raise')\n",
    "    classifier.fit(Xtrain, ytrain)\n",
    "    print_results(classifier)\n",
    "    ypred = classifier.best_estimator_.predict(Xtest)\n",
    "    final_report[score].append(accuracy_score(ytest, ypred))\n",
    "    cm = confusion_matrix(ytest, ypred)\n",
    "    confusion_matrices[model_type_dict['name']] = cm"
   ]
  },
  {
   "attachments": {},
   "cell_type": "markdown",
   "metadata": {},
   "source": [
    "6. For each classification method compute the accuracy and the\n",
    "confusion matrix on the test set"
   ]
  },
  {
   "cell_type": "code",
   "execution_count": 94,
   "metadata": {},
   "outputs": [
    {
     "data": {
      "image/png": "[encoded data removed]",
      "text/plain": [
       "<Figure size 432x288 with 2 Axes>"
      ]
     },
     "metadata": {
      "needs_background": "light"
     },
     "output_type": "display_data"
    },
    {
     "data": {
      "image/png": "[encoded data removed]",
      "text/plain": [
       "<Figure size 432x288 with 2 Axes>"
      ]
     },
     "metadata": {
      "needs_background": "light"
     },
     "output_type": "display_data"
    },
    {
     "data": {
      "image/png": "[encoded data removed]",
      "text/plain": [
       "<Figure size 432x288 with 2 Axes>"
      ]
     },
     "metadata": {
      "needs_background": "light"
     },
     "output_type": "display_data"
    }
   ],
   "source": [
    "for model, cm in confusion_matrices.items():\n",
    "    disp = ConfusionMatrixDisplay(cm)\n",
    "    disp.plot()\n",
    "    disp.ax_.set_title(f\"Confusion matrix for model {model}\")"
   ]
  },
  {
   "cell_type": "code",
   "execution_count": 99,
   "metadata": {},
   "outputs": [
    {
     "data": {
      "text/html": [
       "<div>\n",
       "<style scoped>\n",
       "    .dataframe tbody tr th:only-of-type {\n",
       "        vertical-align: middle;\n",
       "    }\n",
       "\n",
       "    .dataframe tbody tr th {\n",
       "        vertical-align: top;\n",
       "    }\n",
       "\n",
       "    .dataframe thead th {\n",
       "        text-align: right;\n",
       "    }\n",
       "</style>\n",
       "<table border=\"1\" class=\"dataframe\">\n",
       "  <thead>\n",
       "    <tr style=\"text-align: right;\">\n",
       "      <th></th>\n",
       "      <th>accuracy</th>\n",
       "    </tr>\n",
       "  </thead>\n",
       "  <tbody>\n",
       "    <tr>\n",
       "      <th>dt</th>\n",
       "      <td>0.850671</td>\n",
       "    </tr>\n",
       "    <tr>\n",
       "      <th>nb</th>\n",
       "      <td>0.847315</td>\n",
       "    </tr>\n",
       "    <tr>\n",
       "      <th>knn</th>\n",
       "      <td>0.870805</td>\n",
       "    </tr>\n",
       "  </tbody>\n",
       "</table>\n",
       "</div>"
      ],
      "text/plain": [
       "     accuracy\n",
       "dt   0.850671\n",
       "nb   0.847315\n",
       "knn  0.870805"
      ]
     },
     "execution_count": 99,
     "metadata": {},
     "output_type": "execute_result"
    }
   ],
   "source": [
    "results_df = pd.DataFrame(data=final_report, index=model_lbls)\n",
    "results_df"
   ]
  },
  {
   "attachments": {},
   "cell_type": "markdown",
   "metadata": {},
   "source": [
    "K Nearest Neighbours obtains the best accuracy on the testing set"
   ]
  },
  {
   "attachments": {},
   "cell_type": "markdown",
   "metadata": {},
   "source": [
    "7. Produce a plot of the accuracies given by the methods\n",
    "attempted"
   ]
  },
  {
   "cell_type": "code",
   "execution_count": 101,
   "metadata": {},
   "outputs": [
    {
     "data": {
      "image/png": "[encoded data removed]",
      "text/plain": [
       "<Figure size 432x288 with 1 Axes>"
      ]
     },
     "metadata": {
      "needs_background": "light"
     },
     "output_type": "display_data"
    }
   ],
   "source": [
    "plt.bar(['DecisionTree','NaiveBayes','KNearestNeigh'], results_df['accuracy'])\n",
    "plt.show()"
   ]
  }
 ],
 "metadata": {
  "kernelspec": {
   "display_name": "base",
   "language": "python",
   "name": "python3"
  },
  "language_info": {
   "codemirror_mode": {
    "name": "ipython",
    "version": 3
   },
   "file_extension": ".py",
   "mimetype": "text/x-python",
   "name": "python",
   "nbconvert_exporter": "python",
   "pygments_lexer": "ipython3",
   "version": "3.7.9 (default, Aug 31 2020, 17:10:11) [MSC v.1916 64 bit (AMD64)]"
  },
  "orig_nbformat": 4,
  "vscode": {
   "interpreter": {
    "hash": "23354e2e7e68c2dfad28be645c3630fd640c06e75c58eeae664ccedc5ec48a73"
   }
  }
 },
 "nbformat": 4,
 "nbformat_minor": 2
}
